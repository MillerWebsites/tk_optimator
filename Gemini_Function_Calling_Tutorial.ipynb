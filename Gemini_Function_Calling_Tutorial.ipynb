{
 "cells": [
  {
   "cell_type": "code",
   "execution_count": null,
   "metadata": {},
   "outputs": [],
   "source": []
  },
  {
   "cell_type": "markdown",
   "metadata": {},
   "source": [
    "5. How function calling works\n",
    "Before we get started with parameter extraction and function calling, let's walk through the steps of function calling and which components are used at runtime.\n",
    "\n",
    "Overview of function calling in Gemini\n",
    "\n",
    "User input to Gemini API\n",
    "The prompt from the user is sent to the Gemini API, and in that API call to the Gemini model, the developer has defined one or more function declarations within a tool so that the Gemini model knows which functions it can call and how to call them.\n",
    "\n",
    "User Input -> Gemini API -> Function Call\n",
    "\n",
    "The Gemini API returns a Function Call\n",
    "Based on the content of the user input and prompt, Gemini will return a Function Call response with structured data that includes the name of the function to call and the corresponding parameters to use.\n",
    "\n",
    "Gemini API -> Function Call\n",
    "\n",
    "Make an API request\n",
    "Then, you'll use the function name and parameters to make an API request to retrieve information from an external system or API. This API request and response is implemented by the developer in the application code and happens outside of the scope of the Gemini API and SDK. For example, you might use the requests library in Python to call a REST API and receive a JSON response. Or you can call the function using your preferred approach and client library.\n",
    "\n",
    "API Parameters -> External API -> API Response\n",
    "\n",
    "Return the API Response to Gemini\n",
    "Finally, you'll pass the API response back to the Gemini model so that it can generate a response to the end-user's initial prompt or invoke another Function Call response if the Gemini model determines that it needs additional information.\n",
    "\n",
    "API Response -> Function Response -> Model Output"
   ]
  },
  {
   "cell_type": "markdown",
   "metadata": {},
   "source": []
  }
 ],
 "metadata": {
  "kernelspec": {
   "display_name": "Python 3",
   "language": "python",
   "name": "python3"
  },
  "language_info": {
   "name": "python",
   "version": "3.12.6"
  }
 },
 "nbformat": 4,
 "nbformat_minor": 2
}
