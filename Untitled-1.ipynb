{
 "cells": [
  {
   "cell_type": "code",
   "execution_count": 2,
   "metadata": {},
   "outputs": [
    {
     "ename": "TypeError",
     "evalue": "'GeminiProvider' object is not callable",
     "output_type": "error",
     "traceback": [
      "\u001b[1;31m---------------------------------------------------------------------------\u001b[0m",
      "\u001b[1;31mTypeError\u001b[0m                                 Traceback (most recent call last)",
      "Cell \u001b[1;32mIn[2], line 6\u001b[0m\n\u001b[0;32m      4\u001b[0m \u001b[38;5;28;01mimport\u001b[39;00m \u001b[38;5;21;01msearch_manager\u001b[39;00m\n\u001b[0;32m      5\u001b[0m \u001b[38;5;28;01mfrom\u001b[39;00m \u001b[38;5;21;01msearch_manager\u001b[39;00m \u001b[38;5;28;01mimport\u001b[39;00m SearchManager, SearchProvider, SearchAPI, DuckDuckGoSearchProvider, foia_search\n\u001b[1;32m----> 6\u001b[0m gemini_provider \u001b[38;5;241m=\u001b[39m \u001b[43mllm_providers\u001b[49m\u001b[38;5;241;43m.\u001b[39;49m\u001b[43mGeminiProvider\u001b[49m\u001b[43m(\u001b[49m\u001b[43mapi_key\u001b[49m\u001b[38;5;241;43m=\u001b[39;49m\u001b[43mGEMINI_API_KEY\u001b[49m\u001b[43m)\u001b[49m\u001b[43m(\u001b[49m\u001b[43m)\u001b[49m\n\u001b[0;32m      8\u001b[0m response \u001b[38;5;241m=\u001b[39m llm_providers\u001b[38;5;241m.\u001b[39mGeminiProvider\u001b[38;5;241m.\u001b[39mgenerate_response(\u001b[38;5;124m\"\u001b[39m\u001b[38;5;124mWhat is the meaning of life?\u001b[39m\u001b[38;5;124m\"\u001b[39m)\n\u001b[0;32m     11\u001b[0m \u001b[38;5;66;03m# Initialize the client with your API key\u001b[39;00m\n",
      "\u001b[1;31mTypeError\u001b[0m: 'GeminiProvider' object is not callable"
     ]
    }
   ],
   "source": [
    "import google.generativeai as genai\n",
    "from config import GEMINI_API_KEY\n",
    "import llm_providers\n",
    "import search_manager\n",
    "from search_manager import SearchManager, SearchProvider, SearchAPI, DuckDuckGoSearchProvider, foia_search\n",
    "gemini_provider = llm_providers.GeminiProvider(api_key=GEMINI_API_KEY)()\n",
    "\n",
    "response = llm_providers.GeminiProvider.generate_response(\"What is the meaning of life?\")\n",
    "\n",
    "\n",
    "# Initialize the client with your API key\n",
    "results = foia_search(\"What is the meaning of life?\")\n",
    "\n",
    "\n",
    "# Start the conversation\n",
    "prompt=results\n",
    "\n",
    "\n",
    "client = GoogleGenerativeAI()    # Initialize the client with your API key\n",
    "\n",
    "# Start the conversation\n",
    "client.co"
   ]
  }
 ],
 "metadata": {
  "kernelspec": {
   "display_name": "Python 3",
   "language": "python",
   "name": "python3"
  },
  "language_info": {
   "codemirror_mode": {
    "name": "ipython",
    "version": 3
   },
   "file_extension": ".py",
   "mimetype": "text/x-python",
   "name": "python",
   "nbconvert_exporter": "python",
   "pygments_lexer": "ipython3",
   "version": "3.12.6"
  }
 },
 "nbformat": 4,
 "nbformat_minor": 2
}
