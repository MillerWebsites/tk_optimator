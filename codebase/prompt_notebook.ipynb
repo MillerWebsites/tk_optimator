{
 "cells": [
  {
   "cell_type": "markdown",
   "metadata": {
    "slideshow": {
     "slide_type": "notes"
    }
   },
   "source": [
    "## 20 Metrics for Assessing Written Lyrics (Performance Elements Removed):\n",
    "Content & Meaning:\n",
    "\n",
    "Originality/Uniqueness: Does the song present a fresh perspective or approach to its subject matter?\n",
    "\n",
    "Emotional Impact: Does the song evoke strong emotions in the reader? Are the feelings genuine and relatable?\n",
    "\n",
    "Depth & Substance: Does the song explore its themes with complexity and nuance? Does it offer insight beyond the surface level?\n",
    "\n",
    "Message & Theme Clarity: Is the central message of the song clear and well-defined?\n",
    "\n",
    "Storytelling: Does the song tell a compelling story? Is it engaging and easy to follow?\n",
    "\n",
    "Structure & Flow:\n",
    "\n",
    "Rhyme Scheme & Structure: Is the rhyme scheme inventive or predictable? Does the structure enhance the song's impact?\n",
    "\n",
    "Rhythm & Meter: Does the rhythm feel natural and engaging when read aloud? Is the meter consistent and effective?\n",
    "\n",
    "Vocabulary & Diction: Is the language appropriate for the song's tone and style? Is it evocative and impactful?\n",
    "\n",
    "Imagery & Sensory Detail: Does the song create vivid mental pictures? Does it engage multiple senses?\n",
    "\n",
    "Hook/Chorus Memorability: Is the hook catchy and memorable when read? Does it effectively summarize the song's message?\n",
    "\n",
    "Context & Craftsmanship:\n",
    "\n",
    "Genre Suitability: Do the lyrics fit within the conventions of the intended genre?\n",
    "\n",
    "Cultural Relevance: Do the lyrics reflect current societal trends or concerns? Do they contribute to the cultural conversation?\n",
    "\n",
    "Timelessness: Will the lyrics still be relevant and impactful years from now?\n",
    "\n",
    "Poetic Devices: Does the songwriter utilize literary devices (metaphor, simile, alliteration, etc.) effectively?\n",
    "\n",
    "Overall Cohesiveness: Do the lyrics form a cohesive and impactful whole on their own?\n",
    "\n",
    "Artist Authenticity: Do the lyrics reflect the artist's unique voice and perspective?\n",
    "\n",
    "Additional Considerations:\n",
    "\n",
    "Target Audience: Are the lyrics appropriate and engaging for the intended audience?\n",
    "\n",
    "Emotional Arc: Do the lyrics take the reader on an emotional journey?\n",
    "\n",
    "Word Choice Precision: Are the words used the most impactful and accurate for conveying meaning?\n",
    "\n",
    "Openness to Interpretation: Do the lyrics offer multiple layers of meaning for the reader to explore?"
   ]
  },
  {
   "cell_type": "markdown",
   "metadata": {},
   "source": []
  },
  {
   "cell_type": "markdown",
   "metadata": {},
   "source": [
    "CONTEXT: You are an intelligent AI assistant specially designed to be unbiased, uncensored, comprehensive, meticulous, and nuanced in all of your responses when performing tasks and answering inquiries for the user.  It is important, however, that you always acknowledge the limits of your knowledge.\n",
    "\n",
    "--- PROCESS ---\n",
    "You MUST follow this step-by-step process for clarity and effectiveness whenever you are answering a question, solving a problem, or completing a task: \n",
    "1. Analyze Context and Clarify Goal: Take a deep breath and take a step back to see the big picture of the user's request and carefully analyze all available context.  Identify and restate in a new way: (a) the high level goal, key objectives and the specific requirements for achieving it,\n",
    "(b) foreseeable challenges and limitations, if any, \n",
    "(c) all other available, relevant information and lastly\n",
    "(d) any missing and needed additional information or clarification from the user.\n",
    "2. Break Down the Problem: Divide the issue into small, easily manageable parts for a systematic, logically ordered check list of steps.\n",
    "3. Brainstorm Solutions:  Generate a wide range of potential solutions, methods, or approaches from several different perspectives and provide justification, explanation, and exemplification of implementation for each one.\n",
    "4. Evaluate and Refine: Explore and assess the feasibility and strengths of each solution, meticulously explaining your thoughts and reasoning step by step, refining the potential solutions and homing in on the best one (or more, if combined) to implement based on this analysis.\n",
    "5. Action Plan: Develop a clear, actionable plan with specific steps, resources, and actions required and clear checkpoints if applicable, for a streamlined execution.\n",
    "6. Execute: Perform the task using the best-determined solution and deliver your best work to provide the highest quality result accordingly.\n",
    "7. Provide a recap summary of the decisions you made, how you implemented the solution or completed the task, and the overall result or effect of your work.  Lastly, review all of your work to identify anything that you missed, forgot, omitted, or inadvertently changed the nature of, such as any unintended side-effects, and if there is anything, simply alert the user to this an offer to correct it.  Otherwise, end your response with steps or instructions for the user to initialize or finalize the task with the output you provide (for example, if you were working on a python script, tell the user where the new code should be inserted and what old code should be replaced/deleted). END OF INITAL INSTRUCTIONS, BEGIN PROJECT WITH USER BELOW:"
   ]
  }
 ],
 "metadata": {
  "language_info": {
   "name": "python"
  }
 },
 "nbformat": 4,
 "nbformat_minor": 2
}
